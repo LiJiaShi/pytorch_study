{
 "cells": [
  {
   "cell_type": "code",
   "execution_count": 31,
   "metadata": {},
   "outputs": [],
   "source": [
    "from os import listdir, path\n",
    "import pickle\n",
    "import numpy as np\n",
    "import matplotlib.pyplot as plt\n",
    "from PIL import Image\n",
    "%matplotlib inline"
   ]
  },
  {
   "cell_type": "markdown",
   "metadata": {},
   "source": [
    "#对某个时间点单层雷达回波的图片矩阵处理 \n",
    "#该时间点下层次存在强雷达回波的格点/时间点雷暴大风的数目"
   ]
  },
  {
   "cell_type": "code",
   "execution_count": 2,
   "metadata": {},
   "outputs": [],
   "source": [
    "train_filepath = \"E:/Stormwinddata/y4train.pkl\"\n",
    "val_filepath = \"E:/Stormwinddata/y4val.pkl\"\n",
    "with open(train_filepath, 'rb') as f:\n",
    "    p: dict = pickle.load(f)"
   ]
  },
  {
   "cell_type": "code",
   "execution_count": 29,
   "metadata": {},
   "outputs": [],
   "source": [
    "def grey2dbz(arr: np.array):\n",
    "    return arr * 0.5 + 15\n",
    "\n",
    "\n",
    "def bmp2array(p):\n",
    "    img = Image.open(p)\n",
    "    return np.array(img)"
   ]
  },
  {
   "cell_type": "code",
   "execution_count": 60,
   "metadata": {},
   "outputs": [
    {
     "name": "stdout",
     "output_type": "stream",
     "text": [
      "1084.0\n",
      "25410.0\n"
     ]
    }
   ],
   "source": [
    "storm_sum = 0\n",
    "dif_radar_sum = 0\n",
    "file_str = \"E:/Stormwinddata\"\n",
    "sum\n",
    "for key, value in p.items():\n",
    "    matrix = value['data'] \n",
    "    matrix = matrix + 1\n",
    "    matrix[matrix>0] = 1 # 获得发生雷暴大风的矩阵\n",
    "    y_sum = matrix.sum()\n",
    "    storm_sum += y_sum # 统计雷暴大风数量\n",
    "    bmp_path = value['radar'][0] # 取第一个雷达层图\n",
    "    path = file_str + bmp_path\n",
    "    radar_matrix = grey2dbz(bmp2array(path))\n",
    "    radar_matrix = radar_matrix-39\n",
    "    radar_matrix[radar_matrix>0] = 1 # 获得雷达强度高的矩阵\n",
    "    radar_matrix[radar_matrix<0] = 0\n",
    "    sum_matrix = np.zeros(shape=(400, 400))\n",
    "    for i in range(400):\n",
    "        for j in range(400):\n",
    "            sum_matrix[i][j] = radar_matrix[i][j]+ matrix[i][j]\n",
    "    sum_matrix = sum_matrix-1\n",
    "    sum_matrix[sum_matrix>0]=1\n",
    "    sum_matrix[sum_matrix<0]=0\n",
    "    radar_sum = sum_matrix.sum()\n",
    "    dif_radar_sum += radar_sum # 统计强雷达电波数量\n",
    "print(dif_radar_sum)\n",
    "print(storm_sum)"
   ]
  },
  {
   "cell_type": "code",
   "execution_count": 61,
   "metadata": {},
   "outputs": [
    {
     "name": "stdout",
     "output_type": "stream",
     "text": [
      "2089.0\n",
      "25410.0\n",
      "0.08221172766627312\n"
     ]
    }
   ],
   "source": [
    "storm_sum = 0\n",
    "dif_radar_sum = 0\n",
    "file_str = \"E:/Stormwinddata\"\n",
    "sum\n",
    "for key, value in p.items():\n",
    "    matrix = value['data'] \n",
    "    matrix = matrix + 1\n",
    "    matrix[matrix>0] = 1 # 获得发生雷暴大风的矩阵\n",
    "    y_sum = matrix.sum()\n",
    "    storm_sum += y_sum # 统计雷暴大风数量\n",
    "    bmp_path = value['radar'][1] # 取第一个雷达层图\n",
    "    path = file_str + bmp_path\n",
    "    radar_matrix = grey2dbz(bmp2array(path))\n",
    "    radar_matrix = radar_matrix-39\n",
    "    radar_matrix[radar_matrix>0] = 1 # 获得雷达强度高的矩阵\n",
    "    radar_matrix[radar_matrix<0] = 0\n",
    "    sum_matrix = np.zeros(shape=(400, 400))\n",
    "    for i in range(400):\n",
    "        for j in range(400):\n",
    "            sum_matrix[i][j] = radar_matrix[i][j]+ matrix[i][j]\n",
    "    sum_matrix = sum_matrix-1\n",
    "    sum_matrix[sum_matrix>0]=1\n",
    "    sum_matrix[sum_matrix<0]=0\n",
    "    radar_sum = sum_matrix.sum()\n",
    "    dif_radar_sum += radar_sum # 统计强雷达电波数量\n",
    "print(dif_radar_sum)\n",
    "print(storm_sum)\n",
    "print(dif_radar_sum/storm_sum)"
   ]
  },
  {
   "cell_type": "code",
   "execution_count": 62,
   "metadata": {},
   "outputs": [
    {
     "name": "stdout",
     "output_type": "stream",
     "text": [
      "雷达层次5\n",
      "3408.0\n",
      "25410.0\n",
      "0.13412042502951593\n"
     ]
    }
   ],
   "source": [
    "storm_sum = 0\n",
    "dif_radar_sum = 0\n",
    "file_str = \"E:/Stormwinddata\"\n",
    "sum\n",
    "for key, value in p.items():\n",
    "    matrix = value['data'] \n",
    "    matrix = matrix + 1\n",
    "    matrix[matrix>0] = 1 # 获得发生雷暴大风的矩阵\n",
    "    y_sum = matrix.sum()\n",
    "    storm_sum += y_sum # 统计雷暴大风数量\n",
    "    bmp_path = value['radar'][2] # 取第一个雷达层图\n",
    "    path = file_str + bmp_path\n",
    "    radar_matrix = grey2dbz(bmp2array(path))\n",
    "    radar_matrix = radar_matrix-39\n",
    "    radar_matrix[radar_matrix>0] = 1 # 获得雷达强度高的矩阵\n",
    "    radar_matrix[radar_matrix<0] = 0\n",
    "    sum_matrix = np.zeros(shape=(400, 400))\n",
    "    for i in range(400):\n",
    "        for j in range(400):\n",
    "            sum_matrix[i][j] = radar_matrix[i][j]+ matrix[i][j]\n",
    "    sum_matrix = sum_matrix-1\n",
    "    sum_matrix[sum_matrix>0]=1\n",
    "    sum_matrix[sum_matrix<0]=0\n",
    "    radar_sum = sum_matrix.sum()\n",
    "    dif_radar_sum += radar_sum # 统计强雷达电波数量\n",
    "print(\"雷达层次5\")\n",
    "print(dif_radar_sum)\n",
    "print(storm_sum)\n",
    "print(dif_radar_sum/storm_sum)"
   ]
  },
  {
   "cell_type": "code",
   "execution_count": 63,
   "metadata": {},
   "outputs": [
    {
     "name": "stdout",
     "output_type": "stream",
     "text": [
      "雷达层次7\n",
      "3922.0\n",
      "25410.0\n",
      "0.15434868162140888\n"
     ]
    }
   ],
   "source": [
    "storm_sum = 0\n",
    "dif_radar_sum = 0\n",
    "file_str = \"E:/Stormwinddata\"\n",
    "sum\n",
    "for key, value in p.items():\n",
    "    matrix = value['data'] \n",
    "    matrix = matrix + 1\n",
    "    matrix[matrix>0] = 1 # 获得发生雷暴大风的矩阵\n",
    "    y_sum = matrix.sum()\n",
    "    storm_sum += y_sum # 统计雷暴大风数量\n",
    "    bmp_path = value['radar'][3] # 取第一个雷达层图\n",
    "    path = file_str + bmp_path\n",
    "    radar_matrix = grey2dbz(bmp2array(path))\n",
    "    radar_matrix = radar_matrix-39\n",
    "    radar_matrix[radar_matrix>0] = 1 # 获得雷达强度高的矩阵\n",
    "    radar_matrix[radar_matrix<0] = 0\n",
    "    sum_matrix = np.zeros(shape=(400, 400))\n",
    "    for i in range(400):\n",
    "        for j in range(400):\n",
    "            sum_matrix[i][j] = radar_matrix[i][j]+ matrix[i][j]\n",
    "    sum_matrix = sum_matrix-1\n",
    "    sum_matrix[sum_matrix>0]=1\n",
    "    sum_matrix[sum_matrix<0]=0\n",
    "    radar_sum = sum_matrix.sum()\n",
    "    dif_radar_sum += radar_sum # 统计强雷达电波数量\n",
    "print(\"雷达层次7\")\n",
    "print(dif_radar_sum)\n",
    "print(storm_sum)\n",
    "print(dif_radar_sum/storm_sum)"
   ]
  },
  {
   "cell_type": "code",
   "execution_count": 64,
   "metadata": {},
   "outputs": [
    {
     "name": "stdout",
     "output_type": "stream",
     "text": [
      "雷达层次9\n",
      "3874.0\n",
      "25410.0\n",
      "0.15245966155057064\n"
     ]
    }
   ],
   "source": [
    "storm_sum = 0\n",
    "dif_radar_sum = 0\n",
    "file_str = \"E:/Stormwinddata\"\n",
    "sum\n",
    "for key, value in p.items():\n",
    "    matrix = value['data'] \n",
    "    matrix = matrix + 1\n",
    "    matrix[matrix>0] = 1 # 获得发生雷暴大风的矩阵\n",
    "    y_sum = matrix.sum()\n",
    "    storm_sum += y_sum # 统计雷暴大风数量\n",
    "    bmp_path = value['radar'][4] # 取第一个雷达层图\n",
    "    path = file_str + bmp_path\n",
    "    radar_matrix = grey2dbz(bmp2array(path))\n",
    "    radar_matrix = radar_matrix-39\n",
    "    radar_matrix[radar_matrix>0] = 1 # 获得雷达强度高的矩阵\n",
    "    radar_matrix[radar_matrix<0] = 0\n",
    "    sum_matrix = np.zeros(shape=(400, 400))\n",
    "    for i in range(400):\n",
    "        for j in range(400):\n",
    "            sum_matrix[i][j] = radar_matrix[i][j]+ matrix[i][j]\n",
    "    sum_matrix = sum_matrix-1\n",
    "    sum_matrix[sum_matrix>0]=1\n",
    "    sum_matrix[sum_matrix<0]=0\n",
    "    radar_sum = sum_matrix.sum()\n",
    "    dif_radar_sum += radar_sum # 统计强雷达电波数量\n",
    "print(\"雷达层次9\")\n",
    "print(dif_radar_sum)\n",
    "print(storm_sum)\n",
    "print(dif_radar_sum/storm_sum)"
   ]
  },
  {
   "cell_type": "code",
   "execution_count": 65,
   "metadata": {},
   "outputs": [
    {
     "name": "stdout",
     "output_type": "stream",
     "text": [
      "雷达层次11\n",
      "3387.0\n",
      "25410.0\n",
      "0.1332939787485242\n"
     ]
    }
   ],
   "source": [
    "storm_sum = 0\n",
    "dif_radar_sum = 0\n",
    "file_str = \"E:/Stormwinddata\"\n",
    "sum\n",
    "for key, value in p.items():\n",
    "    matrix = value['data'] \n",
    "    matrix = matrix + 1\n",
    "    matrix[matrix>0] = 1 # 获得发生雷暴大风的矩阵\n",
    "    y_sum = matrix.sum()\n",
    "    storm_sum += y_sum # 统计雷暴大风数量\n",
    "    bmp_path = value['radar'][5] # 取第一个雷达层图\n",
    "    path = file_str + bmp_path\n",
    "    radar_matrix = grey2dbz(bmp2array(path))\n",
    "    radar_matrix = radar_matrix-39\n",
    "    radar_matrix[radar_matrix>0] = 1 # 获得雷达强度高的矩阵\n",
    "    radar_matrix[radar_matrix<0] = 0\n",
    "    sum_matrix = np.zeros(shape=(400, 400))\n",
    "    for i in range(400):\n",
    "        for j in range(400):\n",
    "            sum_matrix[i][j] = radar_matrix[i][j]+ matrix[i][j]\n",
    "    sum_matrix = sum_matrix-1\n",
    "    sum_matrix[sum_matrix>0]=1\n",
    "    sum_matrix[sum_matrix<0]=0\n",
    "    radar_sum = sum_matrix.sum()\n",
    "    dif_radar_sum += radar_sum # 统计强雷达电波数量\n",
    "print(\"雷达层次11\")\n",
    "print(dif_radar_sum)\n",
    "print(storm_sum)\n",
    "print(dif_radar_sum/storm_sum)"
   ]
  },
  {
   "cell_type": "code",
   "execution_count": 66,
   "metadata": {},
   "outputs": [
    {
     "name": "stdout",
     "output_type": "stream",
     "text": [
      "雷达层次13\n",
      "1773.0\n",
      "25410.0\n",
      "0.06977567886658796\n"
     ]
    }
   ],
   "source": [
    "storm_sum = 0\n",
    "dif_radar_sum = 0\n",
    "file_str = \"E:/Stormwinddata\"\n",
    "sum\n",
    "for key, value in p.items():\n",
    "    matrix = value['data'] \n",
    "    matrix = matrix + 1\n",
    "    matrix[matrix>0] = 1 # 获得发生雷暴大风的矩阵\n",
    "    y_sum = matrix.sum()\n",
    "    storm_sum += y_sum # 统计雷暴大风数量\n",
    "    bmp_path = value['radar'][6] # 取第一个雷达层图\n",
    "    path = file_str + bmp_path\n",
    "    radar_matrix = grey2dbz(bmp2array(path))\n",
    "    radar_matrix = radar_matrix-39\n",
    "    radar_matrix[radar_matrix>0] = 1 # 获得雷达强度高的矩阵\n",
    "    radar_matrix[radar_matrix<0] = 0\n",
    "    sum_matrix = np.zeros(shape=(400, 400))\n",
    "    for i in range(400):\n",
    "        for j in range(400):\n",
    "            sum_matrix[i][j] = radar_matrix[i][j]+ matrix[i][j]\n",
    "    sum_matrix = sum_matrix-1\n",
    "    sum_matrix[sum_matrix>0]=1\n",
    "    sum_matrix[sum_matrix<0]=0\n",
    "    radar_sum = sum_matrix.sum()\n",
    "    dif_radar_sum += radar_sum # 统计强雷达电波数量\n",
    "print(\"雷达层次13\")\n",
    "print(dif_radar_sum)\n",
    "print(storm_sum)\n",
    "print(dif_radar_sum/storm_sum)"
   ]
  },
  {
   "cell_type": "code",
   "execution_count": 67,
   "metadata": {},
   "outputs": [
    {
     "name": "stdout",
     "output_type": "stream",
     "text": [
      "雷达层次15\n",
      "719.0\n",
      "25410.0\n",
      "0.02829594647776466\n"
     ]
    }
   ],
   "source": [
    "storm_sum = 0\n",
    "dif_radar_sum = 0\n",
    "file_str = \"E:/Stormwinddata\"\n",
    "sum\n",
    "for key, value in p.items():\n",
    "    matrix = value['data'] \n",
    "    matrix = matrix + 1\n",
    "    matrix[matrix>0] = 1 # 获得发生雷暴大风的矩阵\n",
    "    y_sum = matrix.sum()\n",
    "    storm_sum += y_sum # 统计雷暴大风数量\n",
    "    bmp_path = value['radar'][7] # 取第一个雷达层图\n",
    "    path = file_str + bmp_path\n",
    "    radar_matrix = grey2dbz(bmp2array(path))\n",
    "    radar_matrix = radar_matrix-39\n",
    "    radar_matrix[radar_matrix>0] = 1 # 获得雷达强度高的矩阵\n",
    "    radar_matrix[radar_matrix<0] = 0\n",
    "    sum_matrix = np.zeros(shape=(400, 400))\n",
    "    for i in range(400):\n",
    "        for j in range(400):\n",
    "            sum_matrix[i][j] = radar_matrix[i][j]+ matrix[i][j]\n",
    "    sum_matrix = sum_matrix-1\n",
    "    sum_matrix[sum_matrix>0]=1\n",
    "    sum_matrix[sum_matrix<0]=0\n",
    "    radar_sum = sum_matrix.sum()\n",
    "    dif_radar_sum += radar_sum # 统计强雷达电波数量\n",
    "print(\"雷达层次15\")\n",
    "print(dif_radar_sum)\n",
    "print(storm_sum)\n",
    "print(dif_radar_sum/storm_sum)"
   ]
  },
  {
   "cell_type": "code",
   "execution_count": 68,
   "metadata": {},
   "outputs": [
    {
     "name": "stdout",
     "output_type": "stream",
     "text": [
      "雷达层次17\n",
      "92.0\n",
      "25410.0\n",
      "0.0036206218024399843\n"
     ]
    }
   ],
   "source": [
    "storm_sum = 0\n",
    "dif_radar_sum = 0\n",
    "file_str = \"E:/Stormwinddata\"\n",
    "sum\n",
    "for key, value in p.items():\n",
    "    matrix = value['data'] \n",
    "    matrix = matrix + 1\n",
    "    matrix[matrix>0] = 1 # 获得发生雷暴大风的矩阵\n",
    "    y_sum = matrix.sum()\n",
    "    storm_sum += y_sum # 统计雷暴大风数量\n",
    "    bmp_path = value['radar'][8] # 取第一个雷达层图\n",
    "    path = file_str + bmp_path\n",
    "    radar_matrix = grey2dbz(bmp2array(path))\n",
    "    radar_matrix = radar_matrix-39\n",
    "    radar_matrix[radar_matrix>0] = 1 # 获得雷达强度高的矩阵\n",
    "    radar_matrix[radar_matrix<0] = 0\n",
    "    sum_matrix = np.zeros(shape=(400, 400))\n",
    "    for i in range(400):\n",
    "        for j in range(400):\n",
    "            sum_matrix[i][j] = radar_matrix[i][j]+ matrix[i][j]\n",
    "    sum_matrix = sum_matrix-1\n",
    "    sum_matrix[sum_matrix>0]=1\n",
    "    sum_matrix[sum_matrix<0]=0\n",
    "    radar_sum = sum_matrix.sum()\n",
    "    dif_radar_sum += radar_sum # 统计强雷达电波数量\n",
    "print(\"雷达层次17\")\n",
    "print(dif_radar_sum)\n",
    "print(storm_sum)\n",
    "print(dif_radar_sum/storm_sum)"
   ]
  },
  {
   "cell_type": "code",
   "execution_count": 69,
   "metadata": {},
   "outputs": [
    {
     "name": "stdout",
     "output_type": "stream",
     "text": [
      "雷达层次19\n",
      "17.0\n",
      "25410.0\n",
      "0.0006690279417552145\n"
     ]
    }
   ],
   "source": [
    "storm_sum = 0\n",
    "dif_radar_sum = 0\n",
    "file_str = \"E:/Stormwinddata\"\n",
    "sum\n",
    "for key, value in p.items():\n",
    "    matrix = value['data'] \n",
    "    matrix = matrix + 1\n",
    "    matrix[matrix>0] = 1 # 获得发生雷暴大风的矩阵\n",
    "    y_sum = matrix.sum()\n",
    "    storm_sum += y_sum # 统计雷暴大风数量\n",
    "    bmp_path = value['radar'][9] # 取第一个雷达层图\n",
    "    path = file_str + bmp_path\n",
    "    radar_matrix = grey2dbz(bmp2array(path))\n",
    "    radar_matrix = radar_matrix-39\n",
    "    radar_matrix[radar_matrix>0] = 1 # 获得雷达强度高的矩阵\n",
    "    radar_matrix[radar_matrix<0] = 0\n",
    "    sum_matrix = np.zeros(shape=(400, 400))\n",
    "    for i in range(400):\n",
    "        for j in range(400):\n",
    "            sum_matrix[i][j] = radar_matrix[i][j]+ matrix[i][j]\n",
    "    sum_matrix = sum_matrix-1\n",
    "    sum_matrix[sum_matrix>0]=1\n",
    "    sum_matrix[sum_matrix<0]=0\n",
    "    radar_sum = sum_matrix.sum()\n",
    "    dif_radar_sum += radar_sum # 统计强雷达电波数量\n",
    "print(\"雷达层次19\")\n",
    "print(dif_radar_sum)\n",
    "print(storm_sum)\n",
    "print(dif_radar_sum/storm_sum)"
   ]
  },
  {
   "cell_type": "code",
   "execution_count": null,
   "metadata": {},
   "outputs": [],
   "source": []
  }
 ],
 "metadata": {
  "kernelspec": {
   "display_name": "Python 3",
   "language": "python",
   "name": "python3"
  },
  "language_info": {
   "codemirror_mode": {
    "name": "ipython",
    "version": 3
   },
   "file_extension": ".py",
   "mimetype": "text/x-python",
   "name": "python",
   "nbconvert_exporter": "python",
   "pygments_lexer": "ipython3",
   "version": "3.7.7"
  }
 },
 "nbformat": 4,
 "nbformat_minor": 4
}
